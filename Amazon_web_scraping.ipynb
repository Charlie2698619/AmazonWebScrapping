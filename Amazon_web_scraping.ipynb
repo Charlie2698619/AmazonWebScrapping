{
 "cells": [
  {
   "cell_type": "code",
   "execution_count": 1,
   "id": "e2a169f7",
   "metadata": {},
   "outputs": [],
   "source": [
    "# import libraries \n",
    "from bs4 import BeautifulSoup\n",
    "import requests\n",
    "import time\n",
    "import datetime\n",
    "import pandas as pd\n",
    "import smtplib\n",
    "import csv"
   ]
  },
  {
   "cell_type": "code",
   "execution_count": 2,
   "id": "82588686",
   "metadata": {},
   "outputs": [],
   "source": [
    "# connect to website and pull in data\n",
    "\n",
    "URL = 'https://www.amazon.com/PlayStation-5-Console/dp/B09DFCB66S/ref=sr_1_2?crid=2HQ1QPG4OZTLE&keywords=ps5&qid=1663793178&sprefix=ps%2Caps%2C261&sr=8-2'\n",
    "headers ={\"User-Agent\":\"Mozilla/5.0 (Windows NT 10.0; Win64; x64; rv:66.0) Gecko/20100101 Firefox/66.0\", \"Accept-Encoding\":\"gzip, deflate\", \"Accept\":\"text/html,application/xhtml+xml,application/xml;q=0.9,*/*;q=0.8\", \"DNT\":\"1\",\"Connection\":\"close\", \"Upgrade-Insecure-Requests\":\"1\"}\n",
    "page = requests.get(URL, headers=headers)\n",
    "soup1 = BeautifulSoup(page.content, 'html.parser')\n",
    "soup2 = BeautifulSoup(soup1.prettify(), 'html.parser')\n",
    "\n",
    "title = soup2.find(id='productTitle').get_text()\n",
    "price = soup2.find('span', {'class':'a-offscreen'}).get_text()\n"
   ]
  },
  {
   "cell_type": "code",
   "execution_count": 3,
   "id": "5e551e7a",
   "metadata": {},
   "outputs": [
    {
     "name": "stdout",
     "output_type": "stream",
     "text": [
      "PlayStation 5 Console 499.99\n"
     ]
    }
   ],
   "source": [
    "# removing the rupee sign from the price\n",
    "\n",
    "price = price.strip()[1:]\n",
    "title = title.strip()\n",
    "print(title,price)"
   ]
  },
  {
   "cell_type": "code",
   "execution_count": 4,
   "id": "14511c0d",
   "metadata": {},
   "outputs": [
    {
     "name": "stdout",
     "output_type": "stream",
     "text": [
      "2022-09-25\n"
     ]
    }
   ],
   "source": [
    "today = datetime.date.today()\n",
    "print(today)"
   ]
  },
  {
   "cell_type": "code",
   "execution_count": 5,
   "id": "5d13c24f",
   "metadata": {},
   "outputs": [],
   "source": [
    "header = ['Title','Price', 'Date']\n",
    "# create a list \n",
    "data = [title, price, today]\n",
    "\n",
    "# create csv file and insert data \n",
    "with open('AmazonWebScraperDataset.csv', 'w', newline='', encoding='UTF8') as f:\n",
    "    writer = csv.writer(f)\n",
    "    writer.writerow(header)\n",
    "    writer.writerow(data)\n"
   ]
  },
  {
   "cell_type": "code",
   "execution_count": 18,
   "id": "f717caca",
   "metadata": {},
   "outputs": [
    {
     "name": "stdout",
     "output_type": "stream",
     "text": [
      "                   Title   Price        Date\n",
      "0  PlayStation 5 Console  499.99  2022-09-25\n"
     ]
    }
   ],
   "source": [
    "df = pd.read_csv('C:/Users/tony3/Projects/AmazonWebScraperDataset.csv')\n",
    "print(df)"
   ]
  },
  {
   "cell_type": "code",
   "execution_count": 17,
   "id": "b8c95b33",
   "metadata": {},
   "outputs": [],
   "source": [
    "# appending data to csv file\n",
    "with open('AmazonScraperDataset.csv', 'a+', newline='', encoding='UTF8') as f:\n",
    "    writer =csv.writer(f)\n",
    "    writer.writerow(data)"
   ]
  },
  {
   "cell_type": "code",
   "execution_count": 14,
   "id": "12b64d90",
   "metadata": {},
   "outputs": [],
   "source": [
    "# automate the checking function\n",
    "def check_price():\n",
    "    URL = 'https://www.amazon.com/PlayStation-5-Console/dp/B09DFCB66S/ref=sr_1_2?crid=2HQ1QPG4OZTLE&keywords=ps5&qid=1663793178&sprefix=ps%2Caps%2C261&sr=8-2'\n",
    "    headers ={\"User-Agent\":\"Mozilla/5.0 (Windows NT 10.0; Win64; x64; rv:66.0) Gecko/20100101 Firefox/66.0\", \"Accept-Encoding\":\"gzip, deflate\", \"Accept\":\"text/html,application/xhtml+xml,application/xml;q=0.9,*/*;q=0.8\", \"DNT\":\"1\",\"Connection\":\"close\", \"Upgrade-Insecure-Requests\":\"1\"}\n",
    "    page = requests.get(URL, headers=headers)\n",
    "    soup1 = BeautifulSoup(page.content, 'html.parser')\n",
    "    soup2 = BeautifulSoup(soup1.prettify(), 'html.parser')\n",
    "\n",
    "    title = soup2.find(id='productTitle').get_text()\n",
    "    price = soup2.find('span', {'class':'a-offscreen'}).get_text()\n",
    "    price = price.strip()[1:]\n",
    "    title = title.strip()\n",
    "    today = datetime.date.today()\n",
    "    header = ['Title','Price', 'Date']\n",
    "    data = [title, price, today]\n",
    "    \n",
    "    with open('AmazonScraperDataset.csv', 'a+', newline='', encoding='UTF8') as f:\n",
    "        writer =csv.writer(f)\n",
    "        writer.writerow(data)\n",
    "        \n",
    "    # send notice if the price drops\n",
    "    if(price < 400):\n",
    "        send_mail()\n",
    "    "
   ]
  },
  {
   "cell_type": "code",
   "execution_count": null,
   "id": "eeea7016",
   "metadata": {},
   "outputs": [],
   "source": [
    "# check the targeted website by seconds\n",
    "while(True):\n",
    "    check_price()\n",
    "    time.sleep(86400)"
   ]
  },
  {
   "cell_type": "code",
   "execution_count": 22,
   "id": "efe99836",
   "metadata": {},
   "outputs": [
    {
     "name": "stdout",
     "output_type": "stream",
     "text": [
      "                   Title   Price        Date\n",
      "0  PlayStation 5 Console  499.99  2022-09-25\n"
     ]
    }
   ],
   "source": [
    "df = pd.read_csv('C:/Users/tony3/Projects/AmazonWebScraperDataset.csv')\n",
    "print(df)"
   ]
  },
  {
   "cell_type": "code",
   "execution_count": 21,
   "id": "76c48bde",
   "metadata": {},
   "outputs": [],
   "source": [
    "# send email notice for price drop\n",
    "def send_mail():\n",
    "    server = smtplib.SMTP_SSL('smtp.gmail.com',465)\n",
    "    server.ehlo()\n",
    "    server.ehlo()\n",
    "    server.login('tony310059@gamil.com', 'xxxxxxxxxxxx')\n",
    "    \n",
    "    subject = 'time to buy a PS5 !'\n",
    "    body = 'time to buy a PS5 !'\n",
    "    \n",
    "    server.sendmail(\n",
    "            'tony310059@gmail.com',msg\n",
    "    )"
   ]
  },
  {
   "cell_type": "code",
   "execution_count": null,
   "id": "6caea417",
   "metadata": {},
   "outputs": [],
   "source": []
  }
 ],
 "metadata": {
  "kernelspec": {
   "display_name": "Python 3 (ipykernel)",
   "language": "python",
   "name": "python3"
  },
  "language_info": {
   "codemirror_mode": {
    "name": "ipython",
    "version": 3
   },
   "file_extension": ".py",
   "mimetype": "text/x-python",
   "name": "python",
   "nbconvert_exporter": "python",
   "pygments_lexer": "ipython3",
   "version": "3.9.7"
  }
 },
 "nbformat": 4,
 "nbformat_minor": 5
}
